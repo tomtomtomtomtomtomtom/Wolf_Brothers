{
 "cells": [
  {
   "cell_type": "markdown",
   "metadata": {},
   "source": [
    "# Importing Libraries"
   ]
  },
  {
   "cell_type": "code",
   "execution_count": 20,
   "metadata": {
    "collapsed": true
   },
   "outputs": [],
   "source": [
    "import json, config #標準のjsonモジュールとconfig.pyの読み込み\n",
    "from requests_oauthlib import OAuth1Session #OAuthのライブラリの読み込み"
   ]
  },
  {
   "cell_type": "markdown",
   "metadata": {},
   "source": [
    "# Keys and Tokens"
   ]
  },
  {
   "cell_type": "code",
   "execution_count": 21,
   "metadata": {
    "collapsed": true
   },
   "outputs": [],
   "source": [
    "CK = config.CONSUMER_KEY\n",
    "CS = config.CONSUMER_SECRET\n",
    "AT = config.ACCESS_TOKEN\n",
    "ATS = config.ACCESS_TOKEN_SECRET\n",
    "twitter = OAuth1Session(CK, CS, AT, ATS) #認証処理"
   ]
  },
  {
   "cell_type": "markdown",
   "metadata": {},
   "source": [
    "# Twitter API"
   ]
  },
  {
   "cell_type": "code",
   "execution_count": 22,
   "metadata": {
    "collapsed": true
   },
   "outputs": [],
   "source": [
    "def user_timeline(tweet_num=5):\n",
    "    url = \"https://api.twitter.com/1.1/statuses/user_timeline.json\" #タイムライン取得エンドポイント\n",
    "    params ={'count' : tweet_num} #取得数\n",
    "    res = twitter.get(url, params = params)\n",
    "    if res.status_code == 200: #正常通信出来た場合\n",
    "        timelines = json.loads(res.text) #レスポンスからタイムラインリストを取得\n",
    "        for line in timelines: #タイムラインリストをループ処理\n",
    "            print(line['user']['name']+'::'+line['text'])\n",
    "            print(line['created_at'])\n",
    "            print('*******************************************')\n",
    "    else: #正常通信出来なかった場合\n",
    "        print(\"Failed: %d\" % res.status_code)\n",
    "    return timelines"
   ]
  },
  {
   "cell_type": "code",
   "execution_count": 52,
   "metadata": {
    "collapsed": true
   },
   "outputs": [],
   "source": [
    "def post_tweet():\n",
    "    url = \"https://api.twitter.com/1.1/statuses/update.json\" #ツイートポストエンドポイント\n",
    "\n",
    "    print(\"内容を入力してください。\")\n",
    "    tweet = input('>> ') #キーボード入力の取得\n",
    "    print('*******************************************')\n",
    "\n",
    "    params = {\"status\" : tweet}\n",
    "    res = twitter.post(url, params = params) #post送信\n",
    "\n",
    "    if res.status_code == 200: #正常投稿出来た場合\n",
    "        print(\"Success.\")\n",
    "    else: #正常投稿出来なかった場合\n",
    "        print(\"Failed. : %d\"% res.status_code)"
   ]
  },
  {
   "cell_type": "code",
   "execution_count": 53,
   "metadata": {},
   "outputs": [],
   "source": [
    "def search_tweet(tweet_num=5):\n",
    "    print(\"検索する文字列を入力してください。\")\n",
    "    search = input('>> ') #キーボード入力の取得\n",
    "    print('*******************************************')\n",
    "    \n",
    "    url = \"https://api.twitter.com/1.1/search/tweets.json?q={}\".format(search) #ツイートポストエンドポイント\n",
    "    params = {}\n",
    "    res = twitter.get(url) #post送信\n",
    "\n",
    "    if res.status_code == 200: #正常投稿出来た場合\n",
    "        timelines = json.loads(res.text) #レスポンスからタイムラインリストを取得\n",
    "        for line in timelines['statuses']: #タイムラインリストをループ処理\n",
    "            print(line['user']['name']+'::'+line['text'])\n",
    "            print(line['created_at'])\n",
    "            print('*******************************************')\n",
    "    else: #正常通信出来なかった場合\n",
    "        print(\"Failed: %d\" % res.status_code)\n",
    "    return timelines"
   ]
  },
  {
   "cell_type": "code",
   "execution_count": 51,
   "metadata": {
    "scrolled": true
   },
   "outputs": [
    {
     "name": "stdout",
     "output_type": "stream",
     "text": [
      "検索する文字列を入力してください。\n",
      ">> 筒香 頑張って\n",
      "*******************************************\n",
      "みゆきそうせつ【喜楽亭宗雪】::RT @chigahama: 昭和オヤジは声を大にして言うぞ...新婚の年って男は死ぬ気で仕事頑張って結果残さなきゃダメなのよ筒香くん\n",
      "(｡･ω´･｡)y━~~\n",
      "Thu May 10 00:33:16 +0000 2018\n",
      "*******************************************\n",
      "チガハマ is within US.::昭和オヤジは声を大にして言うぞ...新婚の年って男は死ぬ気で仕事頑張って結果残さなきゃダメなのよ筒香くん\n",
      "(｡･ω´･｡)y━~~\n",
      "Thu May 10 00:29:14 +0000 2018\n",
      "*******************************************\n",
      "あらー::筒香は今のままだったら叩くけどやっぱり筒香が打つと球場が盛り上がるしチームが活気付くのは確かなんだから頑張って欲しいのは他の人と同じだから今から3割40本120打点よろしく\n",
      "Wed May 09 15:50:26 +0000 2018\n",
      "*******************************************\n",
      "〠 しげ 〠::筒香どうせまた打ち出すし\n",
      "今日ぐらいしかしっかりしろって言えない\n",
      "明日から頑張って\n",
      "Wed May 09 13:41:57 +0000 2018\n",
      "*******************************************\n",
      "さるぞう::倉本はどうすればいいんだろ。範囲は変わらないとしてもポロリは改善の余地があると思うんだけど。せめて筒香が打ててれば柴田でもいいんだけどなあ。てか柴田もアピール頑張ってよ！\n",
      "Wed May 09 13:41:39 +0000 2018\n",
      "*******************************************\n",
      "キイチ@ギネスのみたい::筒香でネガってしまうけど、エラーを取り返しつつ打率も上げて来てるクララでポジるわね。先発東をはじめ投手陣もよう踏ん張った！！\n",
      "神里は落ちて来たけどもう一踏ん張りしてヒット欲しいわね。ヒット・四球で出塁→盗塁で二塁まで行ければ実質山田哲人なので頑張って欲しい。\n",
      "筒香いい加減打て！！\n",
      "Wed May 09 13:35:54 +0000 2018\n",
      "*******************************************\n",
      "odayuta::投手陣は相変わらずなかなかのお働きですばらしい。打線は筒香を中心に回らなきゃいけないんだから筒香頑張って！！プレッシャーもあろだろうけど頼むよ、主将！！！\n",
      "Wed May 09 13:35:05 +0000 2018\n",
      "*******************************************\n",
      "ヒロ_ベイスタ倉本推し::よく頑張った！\n",
      "延長チャンスあったけど\n",
      "打線がつながってきたから\n",
      "良かった\n",
      "筒香はもっと頑張って！\n",
      "\n",
      "絶対勝つぞベイスターズ🌟\n",
      "\n",
      " #baystars\n",
      "Wed May 09 13:31:49 +0000 2018\n",
      "*******************************************\n",
      "beiko::筒香出塁できなくて引き分けって頑張ったと思う。\n",
      "筒香がすごい心配だけど。\n",
      "あと3か月もしないうちにパパになるんだからもっと頑張って！！\n",
      "Wed May 09 13:31:35 +0000 2018\n",
      "*******************************************\n",
      "みかん箱::筒香、嶺井、次から頑張って！！！投手のみなさま、お疲れ様でした。\n",
      "Wed May 09 13:30:12 +0000 2018\n",
      "*******************************************\n",
      "ニート大佐::RT @syounoyakyu49: 筒香、苦しいだろうけど頑張ってほしいね\n",
      "Wed May 09 13:27:19 +0000 2018\n",
      "*******************************************\n",
      "関口::筒香、苦しいだろうけど頑張ってほしいね\n",
      "Wed May 09 13:24:07 +0000 2018\n",
      "*******************************************\n",
      "横浜ベイスターズで一喜一憂::広島打線を1点に抑えたんだから、打線頑張ってほしかった。\n",
      "言いたくないけど、筒香が6-0ではなぁ…\n",
      "Wed May 09 13:19:20 +0000 2018\n",
      "*******************************************\n",
      "keitantan❤︎::いっちー！筒香に負けないで！\n",
      "頑張って！\n",
      "\n",
      " #carp\n",
      "Wed May 09 13:11:37 +0000 2018\n",
      "*******************************************\n",
      "トモコ::@tyatarou96 頑張って٩( ᐛ )و\n",
      "いつも思うんだけど、筒香とナカジって似てない⁇!!\n",
      "Wed May 09 11:22:45 +0000 2018\n",
      "*******************************************\n"
     ]
    }
   ],
   "source": [
    "timelines = search_tweet()"
   ]
  },
  {
   "cell_type": "code",
   "execution_count": null,
   "metadata": {},
   "outputs": [],
   "source": []
  },
  {
   "cell_type": "code",
   "execution_count": null,
   "metadata": {
    "collapsed": true
   },
   "outputs": [],
   "source": []
  }
 ],
 "metadata": {
  "kernelspec": {
   "display_name": "Python 3",
   "language": "python",
   "name": "python3"
  },
  "language_info": {
   "codemirror_mode": {
    "name": "ipython",
    "version": 3
   },
   "file_extension": ".py",
   "mimetype": "text/x-python",
   "name": "python",
   "nbconvert_exporter": "python",
   "pygments_lexer": "ipython3",
   "version": "3.6.1"
  }
 },
 "nbformat": 4,
 "nbformat_minor": 2
}
