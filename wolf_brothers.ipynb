{
 "cells": [
  {
   "cell_type": "code",
   "execution_count": 20,
   "metadata": {
    "collapsed": true
   },
   "outputs": [],
   "source": [
    "import json, config #標準のjsonモジュールとconfig.pyの読み込み\n",
    "from requests_oauthlib import OAuth1Session #OAuthのライブラリの読み込み\n",
    "\n",
    "CK = config.CONSUMER_KEY\n",
    "CS = config.CONSUMER_SECRET\n",
    "AT = config.ACCESS_TOKEN\n",
    "ATS = config.ACCESS_TOKEN_SECRET\n",
    "twitter = OAuth1Session(CK, CS, AT, ATS) #認証処理\n",
    "\n",
    "def user_timeline(tweet_num=5):\n",
    "    url = \"https://api.twitter.com/1.1/statuses/user_timeline.json\" #タイムライン取得エンドポイント\n",
    "    params ={'count' : tweet_num} #取得数\n",
    "    res = twitter.get(url, params = params)\n",
    "    if res.status_code == 200: #正常通信出来た場合\n",
    "        timelines = json.loads(res.text) #レスポンスからタイムラインリストを取得\n",
    "        for line in timelines: #タイムラインリストをループ処理\n",
    "            print(line['user']['name']+'::'+line['text'])\n",
    "            print(line['created_at'])\n",
    "            print('*******************************************')\n",
    "    else: #正常通信出来なかった場合\n",
    "        print(\"Failed: %d\" % res.status_code)\n",
    "    return timelines"
   ]
  },
  {
   "cell_type": "code",
   "execution_count": 21,
   "metadata": {
    "collapsed": true
   },
   "outputs": [],
   "source": []
  },
  {
   "cell_type": "code",
   "execution_count": 22,
   "metadata": {
    "collapsed": true
   },
   "outputs": [],
   "source": []
  },
  {
   "cell_type": "code",
   "execution_count": 52,
   "metadata": {
    "collapsed": true
   },
   "outputs": [],
   "source": [
    "def post_tweet():\n",
    "    url = \"https://api.twitter.com/1.1/statuses/update.json\" #ツイートポストエンドポイント\n",
    "\n",
    "    print(\"内容を入力してください。\")\n",
    "    tweet = input('>> ') #キーボード入力の取得\n",
    "    print('*******************************************')\n",
    "\n",
    "    params = {\"status\" : tweet}\n",
    "    res = twitter.post(url, params = params) #post送信\n",
    "\n",
    "    if res.status_code == 200: #正常投稿出来た場合\n",
    "        print(\"Success.\")\n",
    "    else: #正常投稿出来なかった場合\n",
    "        print(\"Failed. : %d\"% res.status_code)"
   ]
  },
  {
   "cell_type": "code",
   "execution_count": 53,
   "metadata": {},
   "outputs": [],
   "source": [
    "def search_tweet(tweet_num=5):\n",
    "    print(\"検索する文字列を入力してください。\")\n",
    "    search = input('>> ') #キーボード入力の取得\n",
    "    print('*******************************************')\n",
    "    \n",
    "    url = \"https://api.twitter.com/1.1/search/tweets.json?q={}\".format(search) #ツイートポストエンドポイント\n",
    "    params = {}\n",
    "    res = twitter.get(url) #post送信\n",
    "\n",
    "    if res.status_code == 200: #正常投稿出来た場合\n",
    "        timelines = json.loads(res.text) #レスポンスからタイムラインリストを取得\n",
    "        for line in timelines['statuses']: #タイムラインリストをループ処理\n",
    "            print(line['user']['name']+'::'+line['text'])\n",
    "            print(line['created_at'])\n",
    "            print('*******************************************')\n",
    "    else: #正常通信出来なかった場合\n",
    "        print(\"Failed: %d\" % res.status_code)\n",
    "    return timelines"
   ]
  },
  {
   "cell_type": "code",
   "execution_count": null,
   "metadata": {
    "scrolled": true
   },
   "outputs": [],
   "source": []
  },
  {
   "cell_type": "code",
   "execution_count": null,
   "metadata": {},
   "outputs": [],
   "source": []
  },
  {
   "cell_type": "code",
   "execution_count": null,
   "metadata": {
    "collapsed": true
   },
   "outputs": [],
   "source": []
  }
 ],
 "metadata": {
  "kernelspec": {
   "display_name": "Python 3",
   "language": "python",
   "name": "python3"
  },
  "language_info": {
   "codemirror_mode": {
    "name": "ipython",
    "version": 3
   },
   "file_extension": ".py",
   "mimetype": "text/x-python",
   "name": "python",
   "nbconvert_exporter": "python",
   "pygments_lexer": "ipython3",
   "version": "3.6.1"
  }
 },
 "nbformat": 4,
 "nbformat_minor": 2
}
